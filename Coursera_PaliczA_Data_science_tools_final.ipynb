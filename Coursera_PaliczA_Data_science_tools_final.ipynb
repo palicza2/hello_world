{
 "cells": [
  {
   "cell_type": "markdown",
   "id": "209ddbae-f6ed-407a-bcd7-96c6e9c50fa0",
   "metadata": {},
   "source": [
    "# Data Science Tools and Ecosystem\n",
    "\n",
    "\n"
   ]
  },
  {
   "cell_type": "markdown",
   "id": "d3f760c5-6211-466a-b64d-4a6681db09af",
   "metadata": {},
   "source": [
    "In this notebook, Data Science Tools and Ecosystem are summarized."
   ]
  },
  {
   "cell_type": "markdown",
   "id": "b8ca3c20-afda-46ab-aff6-a05f3005a22f",
   "metadata": {},
   "source": [
    "**Objectives:**\n",
    "\n",
    "- Get familiar with the most important data science tools\n",
    "- Get familiar with the most important IDEs such as Jupiter lab, or RStudio\n",
    "- Introduction of the most important Python libraries and R packages\n",
    "- Learn about version controlling basics and GitHub\n",
    "- Get hands on experiance with the abovementioned tools through lab practice"
   ]
  },
  {
   "cell_type": "markdown",
   "id": "70b41158-c0f5-4e90-8519-5f3751b58264",
   "metadata": {},
   "source": [
    "Some of the popular languages that Data Scientists use are:\n",
    "1. Python\n",
    "2. R\n",
    "3. SQL"
   ]
  },
  {
   "cell_type": "markdown",
   "id": "7509647a-bf70-4a1d-a9a8-baa5a663eaee",
   "metadata": {},
   "source": [
    "Some of the commonly used libraries used by Data Scientists include:\n",
    "1. Numpy\n",
    "2. Pandas\n",
    "3. Matplotlib"
   ]
  },
  {
   "cell_type": "markdown",
   "id": "f3588f92-ef4a-43a6-b93a-c032ab755186",
   "metadata": {},
   "source": [
    "| Data Science Tools       |\r\n",
    "|--------------------------|\r\n",
    "| Jupyter Notebook         |\r\n",
    "| RStudio                  |\r\n",
    "| Apache Zeppelin          |"
   ]
  },
  {
   "cell_type": "markdown",
   "id": "27cc9d2a-09bc-4c6d-8009-b37b39b458fb",
   "metadata": {},
   "source": [
    "### Below are a few examples of evaluating arithmetic expressions in Python.\n",
    "\n",
    "#### Addition\n",
    "```python\n",
    "result_add = 5 + 3\n",
    "print(\"5 + 3 =\", result_add)\n",
    "```\n",
    "\n",
    "#### Subtraction\n",
    "```python\n",
    "result_subtract = 10 - 4\n",
    "print(\"10 - 4 =\", result_subtract)\n",
    "```"
   ]
  },
  {
   "cell_type": "code",
   "execution_count": 77,
   "id": "b89dc00d-40a4-4e57-adc8-6a1babc12cba",
   "metadata": {},
   "outputs": [
    {
     "name": "stdout",
     "output_type": "stream",
     "text": [
      "(3 * 4) + 5 = 17\n"
     ]
    }
   ],
   "source": [
    "# This is a simple arithmetic expression to multiply then add integers\n",
    "result = (3 * 4) + 5\n",
    "print(\"(3 * 4) + 5 =\", result)"
   ]
  },
  {
   "cell_type": "code",
   "execution_count": 79,
   "id": "4f1460eb-0f22-4a05-847b-3e324451f223",
   "metadata": {},
   "outputs": [
    {
     "name": "stdout",
     "output_type": "stream",
     "text": [
      "200 hr to min = 3.3333333333333335\n"
     ]
    }
   ],
   "source": [
    "# Exercise 9 - This will convert 200 minutes to hours by diving by 60\n",
    "\n",
    "hr_200_to_minute = 200/60\n",
    "print(\"200 hr to min =\", hr_200_to_minute)"
   ]
  },
  {
   "cell_type": "markdown",
   "id": "463cd477-f99b-45bf-a682-139cdcfee6dd",
   "metadata": {},
   "source": [
    "## Author\n",
    "Alexandr Palicz"
   ]
  }
 ],
 "metadata": {
  "kernelspec": {
   "display_name": "Python 3 (ipykernel)",
   "language": "python",
   "name": "python3"
  },
  "language_info": {
   "codemirror_mode": {
    "name": "ipython",
    "version": 3
   },
   "file_extension": ".py",
   "mimetype": "text/x-python",
   "name": "python",
   "nbconvert_exporter": "python",
   "pygments_lexer": "ipython3",
   "version": "3.12.4"
  }
 },
 "nbformat": 4,
 "nbformat_minor": 5
}
